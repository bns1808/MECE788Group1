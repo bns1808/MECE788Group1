{
 "cells": [
  {
   "cell_type": "code",
   "execution_count": 16,
   "metadata": {
    "id": "GMrGbYDkS8nm"
   },
   "outputs": [],
   "source": [
    "# Import Libraries\n",
    "import pandas as pd\n",
    "import matplotlib.pyplot as plt\n",
    "import seaborn as sns\n",
    "import numpy as np\n",
    "import collections\n",
    "from sklearn.pipeline import Pipeline\n",
    "from sklearn.preprocessing import StandardScaler\n",
    "from sklearn.feature_selection import SelectKBest, f_classif\n",
    "from sklearn.ensemble import RandomForestClassifier\n",
    "from sklearn.model_selection import GridSearchCV\n",
    "from sklearn.metrics import make_scorer, accuracy_score, precision_score, recall_score, f1_score, roc_auc_score, classification_report\n",
    "from collections import defaultdict\n",
    "from sklearn.metrics import confusion_matrix, accuracy_score, precision_recall_fscore_support\n"
   ]
  },
  {
   "cell_type": "code",
   "execution_count": 2,
   "metadata": {
    "id": "XpWVRZwnTGbp"
   },
   "outputs": [],
   "source": [
    "#sim\n",
    "#Upload faulty training dataset\n",
    "df = pd.read_csv('/Users/mansimran/TEP_Faulty_Training.csv', on_bad_lines='skip')\n",
    "\n",
    "#Upload the fault-free training dataset\n",
    "df2 = pd.read_csv('/Users/mansimran/TEP_FaultFree_Training.csv', on_bad_lines='skip')\n",
    "\n",
    "#Upload the faulty testing dataset\n",
    "df_test = pd.read_csv('/Users/mansimran/TEP_Faulty_Testing.csv', on_bad_lines='skip')\n",
    "\n",
    "#Upload the fault-free training dataset\n",
    "df2_test = pd.read_csv('/Users/mansimran/TEP_FaultFree_Testing.csv', on_bad_lines='skip')"
   ]
  },
  {
   "cell_type": "code",
   "execution_count": 3,
   "metadata": {
    "id": "3StPrIL16jWe"
   },
   "outputs": [],
   "source": [
    "#thomas\n",
    "# Upload faulty training dataset\n",
    "df = pd.read_csv(r'D:\\OneDrive - Alberta Innovates\\school\\machine learning - 788\\final project\\TEP_Faulty_Training.csv', on_bad_lines='skip')\n",
    "\n",
    "# Upload the fault-free training dataset\n",
    "df2 = pd.read_csv(r'D:\\OneDrive - Alberta Innovates\\school\\machine learning - 788\\final project\\TEP_FaultFree_Training.csv', on_bad_lines='skip')\n",
    "\n",
    "# Upload the faulty testing dataset\n",
    "df_test = pd.read_csv(r'D:\\OneDrive - Alberta Innovates\\school\\machine learning - 788\\final project\\TEP_Faulty_Testing.csv', on_bad_lines='skip')\n",
    "\n",
    "# Upload the fault-free training dataset\n",
    "df2_test = pd.read_csv(r'D:\\OneDrive - Alberta Innovates\\school\\machine learning - 788\\final project\\TEP_FaultFree_Testing.csv', on_bad_lines='skip')"
   ]
  },
  {
   "cell_type": "code",
   "execution_count": 4,
   "metadata": {
    "id": "PHsqJsxK6jWf"
   },
   "outputs": [],
   "source": [
    "#Sub-sample\n",
    "df = df.loc[(df['simulationRun']<51),:]\n",
    "#df2 = df2.loc[(df2['simulationRun']<51),:]\n",
    "\n",
    "df_test = df_test.loc[(df_test['simulationRun']<41),:]\n",
    "df2_test = df2_test.loc[(df2_test['simulationRun']<201),:]"
   ]
  },
  {
   "cell_type": "code",
   "execution_count": 5,
   "metadata": {
    "id": "eWyoWhW_6jWf"
   },
   "outputs": [],
   "source": [
    "#Combine Test data\n",
    "combined_df_test = pd.concat([df_test, df2_test], ignore_index=True)\n",
    "\n",
    "#Combine Training data\n",
    "combined_df = pd.concat([df, df2], ignore_index=True)"
   ]
  },
  {
   "cell_type": "code",
   "execution_count": 10,
   "metadata": {
    "id": "2aWzPx8X6jWh"
   },
   "outputs": [],
   "source": [
    "#These are the features that I remove based on EDA - EDA file seperate\n",
    "#add in EDA here\n",
    "features_to_plot = ['xmeas_2','xmeas_5', 'xmeas_12', 'xmeas_14', 'xmeas_15', 'xmeas_17', 'xmeas_37','xmv_7', 'xmv_8']\n",
    "\n",
    "def featureengg(combined_df, features_to_plot):\n",
    "\n",
    "    # Assuming combined_df, features_to_plot are defined earlier\n",
    "    clean_df = combined_df.drop(columns=features_to_plot).copy()\n",
    "\n",
    "    window_size = 20  #Window size\n",
    "    j = [2, 4, 6, 8]  # Lag intervals\n",
    "\n",
    "    new_columns = defaultdict(list)\n",
    "\n",
    "    # Loop through faults and runs\n",
    "    for fault in clean_df['faultNumber'].unique():\n",
    "        for run in clean_df[clean_df['faultNumber'] == fault]['simulationRun'].unique():\n",
    "            mask = (clean_df['faultNumber'] == fault) & (clean_df['simulationRun'] == run)\n",
    "\n",
    "            for feature in clean_df.columns.difference(['faultNumber', 'simulationRun', 'sample']):\n",
    "                frequency_feat = [np.nan] * len(clean_df.loc[mask, feature])\n",
    "                feature_ma = f'{feature}_MA'\n",
    "                feature_std = f'{feature}_STD'\n",
    "\n",
    "                # Calculate moving average and standard deviation\n",
    "                ma = clean_df.loc[mask, feature].rolling(window=window_size, min_periods=1).mean()\n",
    "                std = clean_df.loc[mask, feature].rolling(window=window_size, min_periods=1).std()\n",
    "\n",
    "\n",
    "                new_columns[feature_ma].extend(ma)\n",
    "                new_columns[feature_std].extend(std)\n",
    "\n",
    "                # Calculate and store lagged features\n",
    "                for i in j:\n",
    "                    lag_name = f'{feature}_lag{i}'\n",
    "                    lag = clean_df.loc[mask, feature].shift(i)\n",
    "                    new_columns[lag_name].extend(lag)\n",
    "\n",
    "                #Calculate the FFT\n",
    "                feature_f = f'{feature}_frequency'\n",
    "                for i in range(len(clean_df.loc[mask, feature])):\n",
    "                    if i < window_size:\n",
    "                        frequency_feat[i] = np.nan\n",
    "                    else:\n",
    "                        frequency_feat[i] = np.abs(np.fft.fft(clean_df.loc[mask, feature][i-window_size:i])[1:]).max()\n",
    "\n",
    "                new_columns[feature_f].extend(frequency_feat)\n",
    "\n",
    "    for key in new_columns:\n",
    "        new_columns[key] = pd.Series(new_columns[key], index=clean_df.index)\n",
    "\n",
    "    new_columns_df = pd.DataFrame(new_columns)\n",
    "    clean_df = pd.concat([clean_df, new_columns_df], axis=1)\n",
    "    return clean_df"
   ]
  },
  {
   "cell_type": "code",
   "execution_count": 11,
   "metadata": {
    "id": "xCCgNW60N474"
   },
   "outputs": [
    {
     "name": "stderr",
     "output_type": "stream",
     "text": [
      "C:\\Users\\kamin\\AppData\\Local\\Temp\\ipykernel_19628\\3904109653.py:6: SettingWithCopyWarning: \n",
      "A value is trying to be set on a copy of a slice from a DataFrame.\n",
      "Try using .loc[row_indexer,col_indexer] = value instead\n",
      "\n",
      "See the caveats in the documentation: https://pandas.pydata.org/pandas-docs/stable/user_guide/indexing.html#returning-a-view-versus-a-copy\n",
      "  clean_df_cleaned['faultNumber'] = (clean_df_cleaned['faultNumber'] > 0).astype(int)\n"
     ]
    }
   ],
   "source": [
    "#Feature engineering of Training Data\n",
    "clean_df = featureengg(combined_df, features_to_plot)\n",
    "\n",
    "#For Binary classification\n",
    "clean_df_cleaned = clean_df.dropna(axis=0)\n",
    "clean_df_cleaned['faultNumber'] = (clean_df_cleaned['faultNumber'] > 0).astype(int)\n",
    "comb_x_df = clean_df_cleaned.drop(columns=['faultNumber','simulationRun','sample'])\n",
    "comb_y_df = clean_df_cleaned['faultNumber']\n",
    "\n",
    "#For Multi Classification\n",
    "clean_df_cleaned = clean_df.dropna(axis=0)\n",
    "comb_x_df2 = clean_df_cleaned.drop(columns=['faultNumber','simulationRun','sample'])\n",
    "comb_y_df2 = clean_df_cleaned['faultNumber']\n",
    "\n"
   ]
  },
  {
   "cell_type": "code",
   "execution_count": 13,
   "metadata": {
    "id": "keIl7vOs6jWi"
   },
   "outputs": [
    {
     "name": "stderr",
     "output_type": "stream",
     "text": [
      "C:\\Users\\kamin\\AppData\\Local\\Temp\\ipykernel_19628\\2965435764.py:6: SettingWithCopyWarning: \n",
      "A value is trying to be set on a copy of a slice from a DataFrame.\n",
      "Try using .loc[row_indexer,col_indexer] = value instead\n",
      "\n",
      "See the caveats in the documentation: https://pandas.pydata.org/pandas-docs/stable/user_guide/indexing.html#returning-a-view-versus-a-copy\n",
      "  clean_df_test_cleaned['faultNumber'] = (clean_df_test_cleaned['faultNumber'] > 0).astype(int)\n"
     ]
    }
   ],
   "source": [
    "#Feature engineering of Testing Data\n",
    "clean_df_test = featureengg(combined_df_test, features_to_plot)\n",
    "\n",
    "#For Binary classification\n",
    "clean_df_test_cleaned = clean_df_test.dropna(axis=0)\n",
    "clean_df_test_cleaned['faultNumber'] = (clean_df_test_cleaned['faultNumber'] > 0).astype(int)\n",
    "comb_x_df_test = clean_df_test_cleaned.drop(columns=['faultNumber','simulationRun','sample'])\n",
    "comb_y_df_test = clean_df_test_cleaned['faultNumber']\n",
    "\n",
    "#For Multi classification\n",
    "clean_df_test_cleaned = clean_df_test.dropna(axis=0)\n",
    "comb_x_df_test2 = clean_df_test_cleaned.drop(columns=['faultNumber','simulationRun','sample'])\n",
    "comb_y_df_test2 = clean_df_test_cleaned['faultNumber']\n"
   ]
  },
  {
   "cell_type": "code",
   "execution_count": 14,
   "metadata": {
    "id": "J_RSfAU3TdXN"
   },
   "outputs": [],
   "source": [
    "#For Binary classification\n",
    "\n",
    "A1 = Pipeline([('A_',StandardScaler(with_mean=False))])\n",
    "clf = RandomForestClassifier(n_estimators=200, max_depth=40)\n",
    "\n",
    "full_pipeline_Kbest = Pipeline([('initial_transform', A1), ('RFR', clf)])\n",
    "X_new=full_pipeline_Kbest.fit(comb_x_df, comb_y_df)"
   ]
  },
  {
   "cell_type": "code",
   "execution_count": 17,
   "metadata": {},
   "outputs": [
    {
     "name": "stdout",
     "output_type": "stream",
     "text": [
      "Accuracy: 0.957355\n"
     ]
    },
    {
     "data": {
      "image/png": "[encoded data removed]",
      "text/plain": [
       "<Figure size 1500x1500 with 1 Axes>"
      ]
     },
     "metadata": {},
     "output_type": "display_data"
    },
    {
     "name": "stdout",
     "output_type": "stream",
     "text": [
      "Precision: 0.9590327124070267\n",
      "Recall: 0.9566138297872341\n",
      "F1-Score: 0.957056639229158\n",
      "Accuracy: 0.9566138297872341\n",
      "        Actual  Predicted  Correct  sample  simulationRun\n",
      "20           0          0    False      21              1\n",
      "21           0          0    False      22              1\n",
      "22           0          0    False      23              1\n",
      "23           0          0    False      24              1\n",
      "24           0          0    False      25              1\n",
      "...        ...        ...      ...     ...            ...\n",
      "959995       0          0     True     956            200\n",
      "959996       0          0     True     957            200\n",
      "959997       0          0     True     958            200\n",
      "959998       0          0     True     959            200\n",
      "959999       0          0     True     960            200\n",
      "\n",
      "[940000 rows x 5 columns]\n"
     ]
    },
    {
     "data": {
      "image/png": "[encoded data removed]",
      "text/plain": [
       "<Figure size 640x480 with 1 Axes>"
      ]
     },
     "metadata": {},
     "output_type": "display_data"
    }
   ],
   "source": [
    "#Results for binary model\n",
    "predictions = full_pipeline_Kbest.predict(comb_x_df_test)\n",
    "results_df = pd.DataFrame({\n",
    "    'Actual': comb_y_df_test,\n",
    "    'Predicted': predictions,\n",
    "    'Correct': comb_y_df_test == predictions,\n",
    "})\n",
    "\n",
    "\n",
    "results_df['sample'] = clean_df_test_cleaned['sample']\n",
    "results_df['simulationRun'] = clean_df_test_cleaned['simulationRun']\n",
    "\n",
    "plt.figure(figsize=(15, 15))\n",
    "conf_matrix = confusion_matrix(results_df.loc[results_df['sample']>160,'Actual'],\n",
    "                               results_df.loc[results_df['sample']>160,'Predicted'])\n",
    "sns.heatmap(conf_matrix, annot=True, fmt='g', cmap='Blues', cbar=False)\n",
    "\n",
    "accuracy = accuracy_score(results_df.loc[results_df['sample']>160,'Actual'],\n",
    "                               results_df.loc[results_df['sample']>160,'Predicted'])\n",
    "print(f\"Accuracy: {accuracy}\")\n",
    "\n",
    "plt.show()\n",
    "anotherone = results_df.loc[results_df['sample']>160].groupby(['Actual']).agg({'Predicted':'count', 'Correct':'sum'})\n",
    "anotherone['accuracy'] = anotherone['Correct']/anotherone['Predicted']\n",
    "\n",
    "results_df.loc[results_df['sample'] < 161, 'Actual'] = 0\n",
    "conf_matrix =confusion_matrix(results_df['Actual'],\n",
    "                               results_df['Predicted'])\n",
    "sns.heatmap(conf_matrix, annot=True, fmt='g', cmap='Blues', cbar=False)\n",
    "precision, recall, f1, _ = precision_recall_fscore_support(results_df['Actual'], results_df['Predicted'], average='weighted')\n",
    "print(f\"Precision: {precision}\\nRecall: {recall}\\nF1-Score: {f1}\")\n",
    "\n",
    "# Accuracy\n",
    "accuracy = accuracy_score(results_df['Actual'], results_df['Predicted'])\n",
    "print(f\"Accuracy: {accuracy}\")\n",
    "\n",
    "anotherone = results_df.loc[results_df['sample']>160].groupby(['Actual']).agg({'Predicted':'count', 'Correct':'sum'})\n",
    "anotherone['accuracy'] = anotherone['Correct']/anotherone['Predicted']\n",
    "\n",
    "print(results_df)"
   ]
  },
  {
   "cell_type": "code",
   "execution_count": 18,
   "metadata": {},
   "outputs": [
    {
     "name": "stdout",
     "output_type": "stream",
     "text": [
      "Precision: 0.9590327124070267\n",
      "Recall: 0.9566138297872341\n",
      "F1-Score: 0.957056639229158\n",
      "Accuracy: 0.9566138297872341\n"
     ]
    },
    {
     "data": {
      "image/png": "[encoded data removed]",
      "text/plain": [
       "<Figure size 640x480 with 1 Axes>"
      ]
     },
     "metadata": {},
     "output_type": "display_data"
    }
   ],
   "source": [
    "#More results for binary model\n",
    "results_df.loc[results_df['sample'] < 161, 'Actual'] = 0\n",
    "conf_matrix =confusion_matrix(results_df['Actual'],\n",
    "                               results_df['Predicted'])\n",
    "sns.heatmap(conf_matrix, annot=True, fmt='g', cmap='Blues', cbar=False)\n",
    "precision, recall, f1, _ = precision_recall_fscore_support(results_df['Actual'], results_df['Predicted'], average='weighted')\n",
    "print(f\"Precision: {precision}\\nRecall: {recall}\\nF1-Score: {f1}\")\n",
    "\n",
    "# Accuracy\n",
    "accuracy = accuracy_score(results_df['Actual'], results_df['Predicted'])\n",
    "print(f\"Accuracy: {accuracy}\")"
   ]
  },
  {
   "cell_type": "code",
   "execution_count": 19,
   "metadata": {},
   "outputs": [
    {
     "name": "stderr",
     "output_type": "stream",
     "text": [
      "C:\\Users\\kamin\\AppData\\Local\\Temp\\ipykernel_19628\\3340179158.py:3: SettingWithCopyWarning: \n",
      "A value is trying to be set on a copy of a slice from a DataFrame.\n",
      "Try using .loc[row_indexer,col_indexer] = value instead\n",
      "\n",
      "See the caveats in the documentation: https://pandas.pydata.org/pandas-docs/stable/user_guide/indexing.html#returning-a-view-versus-a-copy\n",
      "  clean_df_cleaned['Result'] = New_predict\n",
      "C:\\Users\\kamin\\AppData\\Local\\Temp\\ipykernel_19628\\3340179158.py:6: SettingWithCopyWarning: \n",
      "A value is trying to be set on a copy of a slice from a DataFrame.\n",
      "Try using .loc[row_indexer,col_indexer] = value instead\n",
      "\n",
      "See the caveats in the documentation: https://pandas.pydata.org/pandas-docs/stable/user_guide/indexing.html#returning-a-view-versus-a-copy\n",
      "  clean_df_test_cleaned['Result'] = New_predict_test\n",
      "C:\\Users\\kamin\\AppData\\Local\\Temp\\ipykernel_19628\\3340179158.py:9: SettingWithCopyWarning: \n",
      "A value is trying to be set on a copy of a slice from a DataFrame\n",
      "\n",
      "See the caveats in the documentation: https://pandas.pydata.org/pandas-docs/stable/user_guide/indexing.html#returning-a-view-versus-a-copy\n",
      "  smaller.drop(columns='Result',inplace=True)\n",
      "C:\\Users\\kamin\\AppData\\Local\\Temp\\ipykernel_19628\\3340179158.py:14: SettingWithCopyWarning: \n",
      "A value is trying to be set on a copy of a slice from a DataFrame\n",
      "\n",
      "See the caveats in the documentation: https://pandas.pydata.org/pandas-docs/stable/user_guide/indexing.html#returning-a-view-versus-a-copy\n",
      "  smaller_test.drop(columns='Result',inplace=True)\n"
     ]
    }
   ],
   "source": [
    "#Predict Training Data, and use this for training of Multi-classification\n",
    "New_predict=full_pipeline_Kbest.predict(comb_x_df)\n",
    "clean_df_cleaned['Result'] = New_predict\n",
    "\n",
    "New_predict_test=full_pipeline_Kbest.predict(comb_x_df_test)\n",
    "clean_df_test_cleaned['Result'] = New_predict_test\n",
    "\n",
    "smaller = clean_df_cleaned.loc[clean_df_cleaned['Result']==1]\n",
    "smaller.drop(columns='Result',inplace=True)\n",
    "my_classifierx = smaller.drop(columns=['faultNumber','simulationRun','sample'])\n",
    "my_classifiery = smaller['faultNumber']\n",
    "\n",
    "smaller_test = clean_df_test_cleaned.loc[clean_df_test_cleaned['Result']==1]\n",
    "smaller_test.drop(columns='Result',inplace=True)\n",
    "smaller_test.loc[smaller_test['sample'] < 161, 'faultNumber'] = 0\n",
    "my_testx = smaller_test.drop(columns=['faultNumber','simulationRun','sample'])\n",
    "my_testy = smaller_test['faultNumber']"
   ]
  },
  {
   "cell_type": "code",
   "execution_count": 20,
   "metadata": {
    "id": "AIYCrnO06jWi"
   },
   "outputs": [],
   "source": [
    "#For Multiclassification\n",
    "\n",
    "A1 = Pipeline([('A_',StandardScaler(with_mean=False))])\n",
    "\n",
    "clf = RandomForestClassifier(n_estimators=200, max_depth=40)\n",
    "\n",
    "full_pipeline_Kbest2 = Pipeline([('initial_transform', A1), ('RFR', clf)])\n",
    "\n",
    "\n",
    "X_new2=full_pipeline_Kbest2.fit(my_classifierx, my_classifiery)\n"
   ]
  },
  {
   "cell_type": "code",
   "execution_count": 21,
   "metadata": {},
   "outputs": [
    {
     "ename": "ValueError",
     "evalue": "('Lengths must match to compare', (940000,), (614539,))",
     "output_type": "error",
     "traceback": [
      "\u001b[1;31m---------------------------------------------------------------------------\u001b[0m",
      "\u001b[1;31mValueError\u001b[0m                                Traceback (most recent call last)",
      "Cell \u001b[1;32mIn[21], line 7\u001b[0m\n\u001b[0;32m      1\u001b[0m \u001b[38;5;66;03m#Results for Multi classification\u001b[39;00m\n\u001b[0;32m      2\u001b[0m predictions \u001b[38;5;241m=\u001b[39m full_pipeline_Kbest2\u001b[38;5;241m.\u001b[39mpredict(my_testx)\n\u001b[0;32m      4\u001b[0m results_df \u001b[38;5;241m=\u001b[39m pd\u001b[38;5;241m.\u001b[39mDataFrame({\n\u001b[0;32m      5\u001b[0m     \u001b[38;5;124m'\u001b[39m\u001b[38;5;124mActual\u001b[39m\u001b[38;5;124m'\u001b[39m: comb_y_df_test2,\n\u001b[0;32m      6\u001b[0m     \u001b[38;5;124m'\u001b[39m\u001b[38;5;124mPredicted\u001b[39m\u001b[38;5;124m'\u001b[39m: predictions,\n\u001b[1;32m----> 7\u001b[0m     \u001b[38;5;124m'\u001b[39m\u001b[38;5;124mCorrect\u001b[39m\u001b[38;5;124m'\u001b[39m: \u001b[43mcomb_y_df_test\u001b[49m\u001b[43m \u001b[49m\u001b[38;5;241;43m==\u001b[39;49m\u001b[43m \u001b[49m\u001b[43mpredictions\u001b[49m,\n\u001b[0;32m      8\u001b[0m })\n\u001b[0;32m      9\u001b[0m results_df[\u001b[38;5;124m'\u001b[39m\u001b[38;5;124msample\u001b[39m\u001b[38;5;124m'\u001b[39m] \u001b[38;5;241m=\u001b[39m clean_df_test_cleaned[\u001b[38;5;124m'\u001b[39m\u001b[38;5;124msample\u001b[39m\u001b[38;5;124m'\u001b[39m]\n\u001b[0;32m     10\u001b[0m results_df[\u001b[38;5;124m'\u001b[39m\u001b[38;5;124mPredicted\u001b[39m\u001b[38;5;124m'\u001b[39m]\u001b[38;5;241m.\u001b[39mloc[results_df[\u001b[38;5;124m'\u001b[39m\u001b[38;5;124mPredicted\u001b[39m\u001b[38;5;124m'\u001b[39m]\u001b[38;5;241m==\u001b[39m\u001b[38;5;241m1\u001b[39m]\u001b[38;5;241m=\u001b[39mpredictions2\n",
      "File \u001b[1;32mc:\\Users\\kamin\\miniconda3\\envs\\myenv\\lib\\site-packages\\pandas\\core\\ops\\common.py:76\u001b[0m, in \u001b[0;36m_unpack_zerodim_and_defer.<locals>.new_method\u001b[1;34m(self, other)\u001b[0m\n\u001b[0;32m     72\u001b[0m             \u001b[38;5;28;01mreturn\u001b[39;00m \u001b[38;5;28mNotImplemented\u001b[39m\n\u001b[0;32m     74\u001b[0m other \u001b[38;5;241m=\u001b[39m item_from_zerodim(other)\n\u001b[1;32m---> 76\u001b[0m \u001b[38;5;28;01mreturn\u001b[39;00m \u001b[43mmethod\u001b[49m\u001b[43m(\u001b[49m\u001b[38;5;28;43mself\u001b[39;49m\u001b[43m,\u001b[49m\u001b[43m \u001b[49m\u001b[43mother\u001b[49m\u001b[43m)\u001b[49m\n",
      "File \u001b[1;32mc:\\Users\\kamin\\miniconda3\\envs\\myenv\\lib\\site-packages\\pandas\\core\\arraylike.py:40\u001b[0m, in \u001b[0;36mOpsMixin.__eq__\u001b[1;34m(self, other)\u001b[0m\n\u001b[0;32m     38\u001b[0m \u001b[38;5;129m@unpack_zerodim_and_defer\u001b[39m(\u001b[38;5;124m\"\u001b[39m\u001b[38;5;124m__eq__\u001b[39m\u001b[38;5;124m\"\u001b[39m)\n\u001b[0;32m     39\u001b[0m \u001b[38;5;28;01mdef\u001b[39;00m \u001b[38;5;21m__eq__\u001b[39m(\u001b[38;5;28mself\u001b[39m, other):\n\u001b[1;32m---> 40\u001b[0m     \u001b[38;5;28;01mreturn\u001b[39;00m \u001b[38;5;28;43mself\u001b[39;49m\u001b[38;5;241;43m.\u001b[39;49m\u001b[43m_cmp_method\u001b[49m\u001b[43m(\u001b[49m\u001b[43mother\u001b[49m\u001b[43m,\u001b[49m\u001b[43m \u001b[49m\u001b[43moperator\u001b[49m\u001b[38;5;241;43m.\u001b[39;49m\u001b[43meq\u001b[49m\u001b[43m)\u001b[49m\n",
      "File \u001b[1;32mc:\\Users\\kamin\\miniconda3\\envs\\myenv\\lib\\site-packages\\pandas\\core\\series.py:5803\u001b[0m, in \u001b[0;36mSeries._cmp_method\u001b[1;34m(self, other, op)\u001b[0m\n\u001b[0;32m   5800\u001b[0m lvalues \u001b[38;5;241m=\u001b[39m \u001b[38;5;28mself\u001b[39m\u001b[38;5;241m.\u001b[39m_values\n\u001b[0;32m   5801\u001b[0m rvalues \u001b[38;5;241m=\u001b[39m extract_array(other, extract_numpy\u001b[38;5;241m=\u001b[39m\u001b[38;5;28;01mTrue\u001b[39;00m, extract_range\u001b[38;5;241m=\u001b[39m\u001b[38;5;28;01mTrue\u001b[39;00m)\n\u001b[1;32m-> 5803\u001b[0m res_values \u001b[38;5;241m=\u001b[39m \u001b[43mops\u001b[49m\u001b[38;5;241;43m.\u001b[39;49m\u001b[43mcomparison_op\u001b[49m\u001b[43m(\u001b[49m\u001b[43mlvalues\u001b[49m\u001b[43m,\u001b[49m\u001b[43m \u001b[49m\u001b[43mrvalues\u001b[49m\u001b[43m,\u001b[49m\u001b[43m \u001b[49m\u001b[43mop\u001b[49m\u001b[43m)\u001b[49m\n\u001b[0;32m   5805\u001b[0m \u001b[38;5;28;01mreturn\u001b[39;00m \u001b[38;5;28mself\u001b[39m\u001b[38;5;241m.\u001b[39m_construct_result(res_values, name\u001b[38;5;241m=\u001b[39mres_name)\n",
      "File \u001b[1;32mc:\\Users\\kamin\\miniconda3\\envs\\myenv\\lib\\site-packages\\pandas\\core\\ops\\array_ops.py:323\u001b[0m, in \u001b[0;36mcomparison_op\u001b[1;34m(left, right, op)\u001b[0m\n\u001b[0;32m    318\u001b[0m \u001b[38;5;28;01mif\u001b[39;00m \u001b[38;5;28misinstance\u001b[39m(rvalues, (np\u001b[38;5;241m.\u001b[39mndarray, ABCExtensionArray)):\n\u001b[0;32m    319\u001b[0m     \u001b[38;5;66;03m# TODO: make this treatment consistent across ops and classes.\u001b[39;00m\n\u001b[0;32m    320\u001b[0m     \u001b[38;5;66;03m#  We are not catching all listlikes here (e.g. frozenset, tuple)\u001b[39;00m\n\u001b[0;32m    321\u001b[0m     \u001b[38;5;66;03m#  The ambiguous case is object-dtype.  See GH#27803\u001b[39;00m\n\u001b[0;32m    322\u001b[0m     \u001b[38;5;28;01mif\u001b[39;00m \u001b[38;5;28mlen\u001b[39m(lvalues) \u001b[38;5;241m!=\u001b[39m \u001b[38;5;28mlen\u001b[39m(rvalues):\n\u001b[1;32m--> 323\u001b[0m         \u001b[38;5;28;01mraise\u001b[39;00m \u001b[38;5;167;01mValueError\u001b[39;00m(\n\u001b[0;32m    324\u001b[0m             \u001b[38;5;124m\"\u001b[39m\u001b[38;5;124mLengths must match to compare\u001b[39m\u001b[38;5;124m\"\u001b[39m, lvalues\u001b[38;5;241m.\u001b[39mshape, rvalues\u001b[38;5;241m.\u001b[39mshape\n\u001b[0;32m    325\u001b[0m         )\n\u001b[0;32m    327\u001b[0m \u001b[38;5;28;01mif\u001b[39;00m should_extension_dispatch(lvalues, rvalues) \u001b[38;5;129;01mor\u001b[39;00m (\n\u001b[0;32m    328\u001b[0m     (\u001b[38;5;28misinstance\u001b[39m(rvalues, (Timedelta, BaseOffset, Timestamp)) \u001b[38;5;129;01mor\u001b[39;00m right \u001b[38;5;129;01mis\u001b[39;00m NaT)\n\u001b[0;32m    329\u001b[0m     \u001b[38;5;129;01mand\u001b[39;00m lvalues\u001b[38;5;241m.\u001b[39mdtype \u001b[38;5;241m!=\u001b[39m \u001b[38;5;28mobject\u001b[39m\n\u001b[0;32m    330\u001b[0m ):\n\u001b[0;32m    331\u001b[0m     \u001b[38;5;66;03m# Call the method on lvalues\u001b[39;00m\n\u001b[0;32m    332\u001b[0m     res_values \u001b[38;5;241m=\u001b[39m op(lvalues, rvalues)\n",
      "\u001b[1;31mValueError\u001b[0m: ('Lengths must match to compare', (940000,), (614539,))"
     ]
    }
   ],
   "source": [
    "#Results for Multi classification\n",
    "predictions = full_pipeline_Kbest2.predict(my_testx)\n",
    "\n",
    "results_df = pd.DataFrame({\n",
    "    'Actual': comb_y_df_test2,\n",
    "    'Predicted': predictions,\n",
    "    'Correct': comb_y_df_test == predictions,\n",
    "})\n",
    "results_df['sample'] = clean_df_test_cleaned['sample']\n",
    "results_df['Predicted'].loc[results_df['Predicted']==1]=predictions2\n",
    "\n",
    "results_df.loc[results_df['sample'] < 161, 'Actual'] = 0\n",
    "results_df['Correct'] = results_df['Actual'] == results_df['Predicted']\n",
    "\n",
    "\n",
    "\n",
    "# Assuming y_true contains the true labels and y_pred contains your model predictions\n",
    "print(classification_report(results_df['Actual'], results_df['Predicted']))\n"
   ]
  },
  {
   "cell_type": "code",
   "execution_count": 22,
   "metadata": {},
   "outputs": [
    {
     "data": {
      "text/plain": [
       "<Axes: >"
      ]
     },
     "execution_count": 22,
     "metadata": {},
     "output_type": "execute_result"
    },
    {
     "data": {
      "image/png": "[encoded data removed]",
      "text/plain": [
       "<Figure size 1500x1500 with 1 Axes>"
      ]
     },
     "metadata": {},
     "output_type": "display_data"
    }
   ],
   "source": [
    "#Results for multiclassification \n",
    "\n",
    "plt.figure(figsize=(15, 15))\n",
    "conf_matrix = confusion_matrix(results_df['Actual'],\n",
    "                               results_df['Predicted'])\n",
    "sns.heatmap(conf_matrix, annot=True, fmt='g', cmap='coolwarm', cbar=False)"
   ]
  },
  {
   "cell_type": "code",
   "execution_count": 23,
   "metadata": {},
   "outputs": [
    {
     "name": "stdout",
     "output_type": "stream",
     "text": [
      "        0_ratio  1_ratio\n",
      "sample                  \n",
      "21        0.238      NaN\n",
      "22        0.221      NaN\n",
      "23        0.219      NaN\n",
      "24        0.219      NaN\n",
      "25        0.219      NaN\n",
      "...         ...      ...\n",
      "956       1.000  0.94875\n",
      "957       1.000  0.95000\n",
      "958       1.000  0.94875\n",
      "959       1.000  0.94875\n",
      "960       0.995  0.94875\n",
      "\n",
      "[940 rows x 2 columns]\n"
     ]
    },
    {
     "data": {
      "image/png": "[encoded data removed]",
      "text/plain": [
       "<Figure size 2400x2400 with 2 Axes>"
      ]
     },
     "metadata": {},
     "output_type": "display_data"
    }
   ],
   "source": [
    "#Results for multi classification\n",
    "results_ratio_dict = {}\n",
    "plt.figure(figsize=(24, 24))\n",
    "for fault in results_df['Actual'].unique():\n",
    "    plt.subplot(6,4,fault+1)\n",
    "    one_one = results_df.loc[(results_df['Actual']==fault) & (results_df['sample']<200)].groupby(['sample']).count()\n",
    "    plt.plot(one_one['Actual'])\n",
    "    tne_one = results_df.loc[(results_df['Actual']==fault) & (results_df['sample']<200)].groupby(['sample']).sum()\n",
    "    plt.plot(tne_one['Correct'])\n",
    "    plt.title(f'Fault: {fault}')\n",
    "    sums = results_df.loc[results_df['Actual'] == fault].groupby('sample')['Correct'].sum()\n",
    "    \n",
    "    # Count the occurrences of each 'Sample' within the current fault\n",
    "    counts = results_df.loc[results_df['Actual'] == fault].groupby('sample').size()\n",
    "    \n",
    "    # Calculate the ratio (sum/count) and store it in the dictionary\n",
    "    ratio = sums / counts\n",
    "    results_ratio_dict[f'{fault}_ratio'] = ratio\n",
    "\n",
    "# Convert the dictionary into a DataFrame\n",
    "results_ratio_df = pd.DataFrame(results_ratio_dict)\n",
    "\n",
    "print(results_ratio_df)"
   ]
  },
  {
   "cell_type": "code",
   "execution_count": 205,
   "metadata": {},
   "outputs": [
    {
     "name": "stdout",
     "output_type": "stream",
     "text": [
      "Precision: 0.9602015365294543\n",
      "Recall: 0.957522340425532\n",
      "F1-Score: 0.9579833881033678\n",
      "Accuracy: 0.957522340425532\n"
     ]
    },
    {
     "data": {
      "image/png": "[encoded data removed]",
      "text/plain": [
       "<Figure size 640x480 with 1 Axes>"
      ]
     },
     "metadata": {},
     "output_type": "display_data"
    }
   ],
   "source": []
  }
 ],
 "metadata": {
  "colab": {
   "provenance": []
  },
  "kernelspec": {
   "display_name": "Python 3 (ipykernel)",
   "language": "python",
   "name": "python3"
  },
  "language_info": {
   "codemirror_mode": {
    "name": "ipython",
    "version": 3
   },
   "file_extension": ".py",
   "mimetype": "text/x-python",
   "name": "python",
   "nbconvert_exporter": "python",
   "pygments_lexer": "ipython3",
   "version": "3.10.13"
  }
 },
 "nbformat": 4,
 "nbformat_minor": 1
}
