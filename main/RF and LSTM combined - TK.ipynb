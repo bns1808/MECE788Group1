{
 "cells": [
  {
   "cell_type": "code",
   "execution_count": 2,
   "metadata": {},
   "outputs": [],
   "source": [
    "import pandas as pd\n",
    "import numpy as np\n",
    "import sqlite3\n",
    "import os\n",
    "import matplotlib.pyplot as plt\n",
    "import seaborn as sns\n",
    "from sklearn.metrics import multilabel_confusion_matrix, confusion_matrix, classification_report, roc_auc_score, f1_score, log_loss, recall_score, accuracy_score, precision_score, make_scorer, precision_recall_fscore_support\n",
    "import xgboost as xgb\n",
    "from sklearn.ensemble import RandomForestClassifier\n",
    "from tensorflow.keras.layers import LSTM, BatchNormalization, Conv2D, Conv1D, Flatten, MaxPooling2D, GlobalAveragePooling2D, Dropout, Bidirectional, Dense, Input\n",
    "from keras.models import Sequential, Model\n",
    "from sklearn.preprocessing import StandardScaler, OneHotEncoder\n",
    "from keras.callbacks import EarlyStopping, TensorBoard\n",
    "from sklearn.manifold import TSNE\n",
    "from keras.utils import to_categorical\n",
    "from keras.regularizers import l1\n",
    "import warnings\n",
    "from sklearn.pipeline import Pipeline\n",
    "from sklearn.feature_selection import SelectKBest, f_classif\n",
    "from sklearn.model_selection import GridSearchCV\n",
    "from collections import defaultdict\n"
   ]
  },
  {
   "cell_type": "code",
   "execution_count": 3,
   "metadata": {},
   "outputs": [],
   "source": [
    "#thomas\n",
    "# Upload faulty training dataset\n",
    "df = pd.read_csv(r'D:\\OneDrive - Alberta Innovates\\school\\machine learning - 788\\final project\\TEP_Faulty_Training.csv', on_bad_lines='skip')\n",
    "\n",
    "# Upload the fault-free training dataset\n",
    "df2 = pd.read_csv(r'D:\\OneDrive - Alberta Innovates\\school\\machine learning - 788\\final project\\TEP_FaultFree_Training.csv', on_bad_lines='skip')\n",
    "\n",
    "# Upload the faulty testing dataset\n",
    "df_test = pd.read_csv(r'D:\\OneDrive - Alberta Innovates\\school\\machine learning - 788\\final project\\TEP_Faulty_Testing.csv', on_bad_lines='skip')\n",
    "\n",
    "# Upload the fault-free training dataset\n",
    "df2_test = pd.read_csv(r'D:\\OneDrive - Alberta Innovates\\school\\machine learning - 788\\final project\\TEP_FaultFree_Testing.csv', on_bad_lines='skip')"
   ]
  },
  {
   "cell_type": "code",
   "execution_count": 6,
   "metadata": {},
   "outputs": [],
   "source": [
    "#Sub-sample (20)\n",
    "df = df.loc[(df['simulationRun']<21),:]\n",
    "df2 = df2.loc[(df2['simulationRun']<21),:]\n",
    "\n",
    "df_test = df_test.loc[(df_test['simulationRun']<21),:]\n",
    "df2_test = df2_test.loc[(df2_test['simulationRun']<21),:]\n",
    "\n",
    "#Combine Test data\n",
    "combined_df_test = pd.concat([df_test, df2_test], ignore_index=True)\n",
    "\n",
    "#Combine Training data\n",
    "combined_df = pd.concat([df, df2], ignore_index=True)"
   ]
  },
  {
   "cell_type": "code",
   "execution_count": 7,
   "metadata": {},
   "outputs": [],
   "source": [
    "#EDA FOR RF\n",
    "features_to_plot = ['xmeas_2','xmeas_5', 'xmeas_12', 'xmeas_14', 'xmeas_15', 'xmeas_17', 'xmeas_37','xmv_7', 'xmv_8']\n",
    "\n",
    "def featureengg(combined_df, features_to_plot):\n",
    "\n",
    "    # Assuming combined_df, features_to_plot are defined earlier\n",
    "    clean_df = combined_df.drop(columns=features_to_plot).copy()\n",
    "\n",
    "    window_size = 20  #Window size\n",
    "    j = [2, 4, 6, 8]  # Lag intervals\n",
    "\n",
    "    new_columns = defaultdict(list)\n",
    "\n",
    "    # Loop through faults and runs\n",
    "    for fault in clean_df['faultNumber'].unique():\n",
    "        for run in clean_df[clean_df['faultNumber'] == fault]['simulationRun'].unique():\n",
    "            mask = (clean_df['faultNumber'] == fault) & (clean_df['simulationRun'] == run)\n",
    "\n",
    "            for feature in clean_df.columns.difference(['faultNumber', 'simulationRun', 'sample']):\n",
    "                frequency_feat = [np.nan] * len(clean_df.loc[mask, feature])\n",
    "                feature_ma = f'{feature}_MA'\n",
    "                feature_std = f'{feature}_STD'\n",
    "\n",
    "                # Calculate moving average and standard deviation\n",
    "                ma = clean_df.loc[mask, feature].rolling(window=window_size, min_periods=1).mean()\n",
    "                std = clean_df.loc[mask, feature].rolling(window=window_size, min_periods=1).std()\n",
    "\n",
    "\n",
    "                new_columns[feature_ma].extend(ma)\n",
    "                new_columns[feature_std].extend(std)\n",
    "\n",
    "                # Calculate and store lagged features\n",
    "                for i in j:\n",
    "                    lag_name = f'{feature}_lag{i}'\n",
    "                    lag = clean_df.loc[mask, feature].shift(i)\n",
    "                    new_columns[lag_name].extend(lag)\n",
    "\n",
    "                #Calculate the FFT\n",
    "                feature_f = f'{feature}_frequency'\n",
    "                for i in range(len(clean_df.loc[mask, feature])):\n",
    "                    if i < window_size:\n",
    "                        frequency_feat[i] = np.nan\n",
    "                    else:\n",
    "                        frequency_feat[i] = np.abs(np.fft.fft(clean_df.loc[mask, feature][i-window_size:i])[1:]).max()\n",
    "\n",
    "                new_columns[feature_f].extend(frequency_feat)\n",
    "\n",
    "    for key in new_columns:\n",
    "        new_columns[key] = pd.Series(new_columns[key], index=clean_df.index)\n",
    "\n",
    "    new_columns_df = pd.DataFrame(new_columns)\n",
    "    clean_df = pd.concat([clean_df, new_columns_df], axis=1)\n",
    "    return clean_df"
   ]
  },
  {
   "cell_type": "code",
   "execution_count": 8,
   "metadata": {},
   "outputs": [
    {
     "name": "stderr",
     "output_type": "stream",
     "text": [
      "C:\\Users\\kamin\\AppData\\Local\\Temp\\ipykernel_10532\\1317679147.py:6: SettingWithCopyWarning: \n",
      "A value is trying to be set on a copy of a slice from a DataFrame.\n",
      "Try using .loc[row_indexer,col_indexer] = value instead\n",
      "\n",
      "See the caveats in the documentation: https://pandas.pydata.org/pandas-docs/stable/user_guide/indexing.html#returning-a-view-versus-a-copy\n",
      "  clean_df_cleaned['faultNumber'] = (clean_df_cleaned['faultNumber'] > 0).astype(int)\n",
      "C:\\Users\\kamin\\AppData\\Local\\Temp\\ipykernel_10532\\1317679147.py:15: SettingWithCopyWarning: \n",
      "A value is trying to be set on a copy of a slice from a DataFrame.\n",
      "Try using .loc[row_indexer,col_indexer] = value instead\n",
      "\n",
      "See the caveats in the documentation: https://pandas.pydata.org/pandas-docs/stable/user_guide/indexing.html#returning-a-view-versus-a-copy\n",
      "  clean_df_test_cleaned['faultNumber'] = (clean_df_test_cleaned['faultNumber'] > 0).astype(int)\n"
     ]
    }
   ],
   "source": [
    "#Feature engineering of Training Data\n",
    "clean_df = featureengg(combined_df, features_to_plot)\n",
    "\n",
    "#For Binary classification\n",
    "clean_df_cleaned = clean_df.dropna(axis=0)\n",
    "clean_df_cleaned['faultNumber'] = (clean_df_cleaned['faultNumber'] > 0).astype(int)\n",
    "comb_x_df = clean_df_cleaned.drop(columns=['faultNumber','simulationRun','sample'])\n",
    "comb_y_df = clean_df_cleaned['faultNumber']\n",
    "\n",
    "#Feature engineering of Testing Data\n",
    "clean_df_test = featureengg(combined_df_test, features_to_plot)\n",
    "\n",
    "#For Binary classification\n",
    "clean_df_test_cleaned = clean_df_test.dropna(axis=0)\n",
    "clean_df_test_cleaned['faultNumber'] = (clean_df_test_cleaned['faultNumber'] > 0).astype(int)\n",
    "comb_x_df_test = clean_df_test_cleaned.drop(columns=['faultNumber','simulationRun','sample'])\n",
    "comb_y_df_test = clean_df_test_cleaned['faultNumber']"
   ]
  },
  {
   "cell_type": "code",
   "execution_count": 9,
   "metadata": {},
   "outputs": [],
   "source": [
    "#For Binary classification\n",
    "\n",
    "A1 = Pipeline([('A_',StandardScaler(with_mean=False))])\n",
    "clf = RandomForestClassifier(n_estimators=200, max_depth=40)\n",
    "\n",
    "full_pipeline_Kbest = Pipeline([('initial_transform', A1), ('RFR', clf)])\n",
    "X_new=full_pipeline_Kbest.fit(comb_x_df, comb_y_df)"
   ]
  },
  {
   "cell_type": "code",
   "execution_count": 11,
   "metadata": {},
   "outputs": [
    {
     "name": "stdout",
     "output_type": "stream",
     "text": [
      "Accuracy: 0.9702410714285714\n"
     ]
    },
    {
     "data": {
      "image/png": "[encoded data removed]",
      "text/plain": [
       "<Figure size 1500x1500 with 1 Axes>"
      ]
     },
     "metadata": {},
     "output_type": "display_data"
    },
    {
     "name": "stdout",
     "output_type": "stream",
     "text": [
      "Precision: 0.8428510201358267\n",
      "Recall: 0.8398404255319148\n",
      "F1-Score: 0.7948568370715551\n",
      "Accuracy: 0.8398404255319148\n",
      "        Actual  Predicted  Correct  sample  simulationRun\n",
      "20           0          1     True      21              1\n",
      "21           0          1     True      22              1\n",
      "22           0          1     True      23              1\n",
      "23           0          1     True      24              1\n",
      "24           0          1     True      25              1\n",
      "...        ...        ...      ...     ...            ...\n",
      "403195       0          1    False     956             20\n",
      "403196       0          1    False     957             20\n",
      "403197       0          1    False     958             20\n",
      "403198       0          1    False     959             20\n",
      "403199       0          1    False     960             20\n",
      "\n",
      "[394800 rows x 5 columns]\n"
     ]
    },
    {
     "data": {
      "image/png": "[encoded data removed]",
      "text/plain": [
       "<Figure size 640x480 with 1 Axes>"
      ]
     },
     "metadata": {},
     "output_type": "display_data"
    }
   ],
   "source": [
    "#Results for binary model\n",
    "predictions = full_pipeline_Kbest.predict(comb_x_df_test)\n",
    "results_df = pd.DataFrame({\n",
    "    'Actual': comb_y_df_test,\n",
    "    'Predicted': predictions,\n",
    "    'Correct': comb_y_df_test == predictions,\n",
    "})\n",
    "\n",
    "\n",
    "results_df['sample'] = clean_df_test_cleaned['sample']\n",
    "results_df['simulationRun'] = clean_df_test_cleaned['simulationRun']\n",
    "\n",
    "plt.figure(figsize=(15, 15))\n",
    "conf_matrix = confusion_matrix(results_df.loc[results_df['sample']>160,'Actual'],\n",
    "                               results_df.loc[results_df['sample']>160,'Predicted'])\n",
    "sns.heatmap(conf_matrix, annot=True, fmt='g', cmap='Blues', cbar=False)\n",
    "\n",
    "accuracy = accuracy_score(results_df.loc[results_df['sample']>160,'Actual'],\n",
    "                               results_df.loc[results_df['sample']>160,'Predicted'])\n",
    "print(f\"Accuracy: {accuracy}\")\n",
    "\n",
    "plt.show()\n",
    "anotherone = results_df.loc[results_df['sample']>160].groupby(['Actual']).agg({'Predicted':'count', 'Correct':'sum'})\n",
    "anotherone['accuracy'] = anotherone['Correct']/anotherone['Predicted']\n",
    "\n",
    "results_df.loc[results_df['sample'] < 161, 'Actual'] = 0\n",
    "conf_matrix =confusion_matrix(results_df['Actual'],\n",
    "                               results_df['Predicted'])\n",
    "sns.heatmap(conf_matrix, annot=True, fmt='g', cmap='Blues', cbar=False)\n",
    "precision, recall, f1, _ = precision_recall_fscore_support(results_df['Actual'], results_df['Predicted'], average='weighted')\n",
    "print(f\"Precision: {precision}\\nRecall: {recall}\\nF1-Score: {f1}\")\n",
    "\n",
    "# Accuracy\n",
    "accuracy = accuracy_score(results_df['Actual'], results_df['Predicted'])\n",
    "print(f\"Accuracy: {accuracy}\")\n",
    "\n",
    "anotherone = results_df.loc[results_df['sample']>160].groupby(['Actual']).agg({'Predicted':'count', 'Correct':'sum'})\n",
    "anotherone['accuracy'] = anotherone['Correct']/anotherone['Predicted']\n",
    "\n",
    "print(results_df)"
   ]
  },
  {
   "cell_type": "code",
   "execution_count": 12,
   "metadata": {},
   "outputs": [
    {
     "name": "stdout",
     "output_type": "stream",
     "text": [
      "Precision: 0.8428510201358267\n",
      "Recall: 0.8398404255319148\n",
      "F1-Score: 0.7948568370715551\n",
      "Accuracy: 0.8398404255319148\n"
     ]
    },
    {
     "data": {
      "image/png": "[encoded data removed]",
      "text/plain": [
       "<Figure size 640x480 with 1 Axes>"
      ]
     },
     "metadata": {},
     "output_type": "display_data"
    }
   ],
   "source": [
    "#More results for binary model\n",
    "results_df.loc[results_df['sample'] < 161, 'Actual'] = 0\n",
    "conf_matrix =confusion_matrix(results_df['Actual'],\n",
    "                               results_df['Predicted'])\n",
    "sns.heatmap(conf_matrix, annot=True, fmt='g', cmap='Blues', cbar=False)\n",
    "precision, recall, f1, _ = precision_recall_fscore_support(results_df['Actual'], results_df['Predicted'], average='weighted')\n",
    "print(f\"Precision: {precision}\\nRecall: {recall}\\nF1-Score: {f1}\")\n",
    "\n",
    "# Accuracy\n",
    "accuracy = accuracy_score(results_df['Actual'], results_df['Predicted'])\n",
    "print(f\"Accuracy: {accuracy}\")"
   ]
  },
  {
   "cell_type": "code",
   "execution_count": null,
   "metadata": {},
   "outputs": [],
   "source": []
  }
 ],
 "metadata": {
  "kernelspec": {
   "display_name": "myenv",
   "language": "python",
   "name": "python3"
  },
  "language_info": {
   "codemirror_mode": {
    "name": "ipython",
    "version": 3
   },
   "file_extension": ".py",
   "mimetype": "text/x-python",
   "name": "python",
   "nbconvert_exporter": "python",
   "pygments_lexer": "ipython3",
   "version": "3.10.13"
  }
 },
 "nbformat": 4,
 "nbformat_minor": 2
}
