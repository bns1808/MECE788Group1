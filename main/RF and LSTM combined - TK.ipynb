{
 "cells": [
  {
   "cell_type": "code",
   "execution_count": null,
   "metadata": {},
   "outputs": [],
   "source": [
    "import pandas as pd\n",
    "import numpy as np\n",
    "import sqlite3\n",
    "import os\n",
    "import matplotlib.pyplot as plt\n",
    "import seaborn as sns\n",
    "from sklearn.metrics import multilabel_confusion_matrix, confusion_matrix, classification_report, roc_auc_score, f1_score, log_loss, recall_score, accuracy_score, precision_score, make_scorer, precision_recall_fscore_support\n",
    "import xgboost as xgb\n",
    "from sklearn.ensemble import RandomForestClassifier\n",
    "from tensorflow.keras.layers import LSTM, BatchNormalization, Conv2D, Conv1D, Flatten, MaxPooling2D, GlobalAveragePooling2D, Dropout, Bidirectional, Dense, Input\n",
    "from keras.models import Sequential, Model\n",
    "from sklearn.preprocessing import StandardScaler, OneHotEncoder\n",
    "from keras.callbacks import EarlyStopping, TensorBoard\n",
    "from sklearn.manifold import TSNE\n",
    "from prettytable import PrettyTable\n",
    "from hyperopt import Trials, STATUS_OK, tpe\n",
    "from hyperas import optim\n",
    "from hyperas.distributions import choice, uniform, pchoice\n",
    "from keras.utils import to_categorical\n",
    "from keras.regularizers import l1\n",
    "import warnings\n",
    "from sklearn.pipeline import Pipeline\n",
    "from sklearn.feature_selection import SelectKBest, f_classif\n",
    "from sklearn.model_selection import GridSearchCV\n",
    "from collections import defaultdict\n"
   ]
  }
 ],
 "metadata": {
  "language_info": {
   "name": "python"
  }
 },
 "nbformat": 4,
 "nbformat_minor": 2
}
