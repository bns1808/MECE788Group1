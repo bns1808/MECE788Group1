{
 "cells": [
  {
   "cell_type": "code",
   "execution_count": 2,
   "metadata": {},
   "outputs": [],
   "source": [
    "import pandas as pd\n",
    "import numpy as np\n",
    "import sqlite3\n",
    "import os\n",
    "import matplotlib.pyplot as plt\n",
    "import seaborn as sns\n",
    "from sklearn.metrics import multilabel_confusion_matrix, confusion_matrix, classification_report, roc_auc_score, f1_score, log_loss, recall_score, accuracy_score, precision_score, make_scorer, precision_recall_fscore_support\n",
    "import xgboost as xgb\n",
    "from sklearn.ensemble import RandomForestClassifier\n",
    "from tensorflow.keras.layers import LSTM, BatchNormalization, Conv2D, Conv1D, Flatten, MaxPooling2D, GlobalAveragePooling2D, Dropout, Bidirectional, Dense, Input\n",
    "from keras.models import Sequential, Model\n",
    "from sklearn.preprocessing import StandardScaler, OneHotEncoder\n",
    "from keras.callbacks import EarlyStopping, TensorBoard\n",
    "from sklearn.manifold import TSNE\n",
    "from keras.utils import to_categorical\n",
    "from keras.regularizers import l1\n",
    "import warnings\n",
    "from sklearn.pipeline import Pipeline\n",
    "from sklearn.feature_selection import SelectKBest, f_classif\n",
    "from sklearn.model_selection import GridSearchCV\n",
    "from collections import defaultdict\n"
   ]
  },
  {
   "cell_type": "code",
   "execution_count": 3,
   "metadata": {},
   "outputs": [],
   "source": [
    "#thomas\n",
    "# Upload faulty training dataset\n",
    "df = pd.read_csv(r'D:\\OneDrive - Alberta Innovates\\school\\machine learning - 788\\final project\\TEP_Faulty_Training.csv', on_bad_lines='skip')\n",
    "\n",
    "# Upload the fault-free training dataset\n",
    "df2 = pd.read_csv(r'D:\\OneDrive - Alberta Innovates\\school\\machine learning - 788\\final project\\TEP_FaultFree_Training.csv', on_bad_lines='skip')\n",
    "\n",
    "# Upload the faulty testing dataset\n",
    "df_test = pd.read_csv(r'D:\\OneDrive - Alberta Innovates\\school\\machine learning - 788\\final project\\TEP_Faulty_Testing.csv', on_bad_lines='skip')\n",
    "\n",
    "# Upload the fault-free training dataset\n",
    "df2_test = pd.read_csv(r'D:\\OneDrive - Alberta Innovates\\school\\machine learning - 788\\final project\\TEP_FaultFree_Testing.csv', on_bad_lines='skip')"
   ]
  },
  {
   "cell_type": "code",
   "execution_count": 4,
   "metadata": {},
   "outputs": [],
   "source": [
    "#Sub-sample (30)\n",
    "df = df.loc[(df['simulationRun']<31),:]\n",
    "df2 = df2.loc[(df2['simulationRun']<31),:]\n",
    "\n",
    "df_test = df_test.loc[(df_test['simulationRun']<31),:]\n",
    "df2_test = df2_test.loc[(df2_test['simulationRun']<31),:]"
   ]
  }
 ],
 "metadata": {
  "kernelspec": {
   "display_name": "myenv",
   "language": "python",
   "name": "python3"
  },
  "language_info": {
   "codemirror_mode": {
    "name": "ipython",
    "version": 3
   },
   "file_extension": ".py",
   "mimetype": "text/x-python",
   "name": "python",
   "nbconvert_exporter": "python",
   "pygments_lexer": "ipython3",
   "version": "3.10.13"
  }
 },
 "nbformat": 4,
 "nbformat_minor": 2
}
